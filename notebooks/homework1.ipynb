{
  "cells": [
    {
      "cell_type": "markdown",
      "metadata": {},
      "source": [
        "# Homework 1: Intro to Deep RL with Single Agent Training Environments\n",
        "\n",
        "The goal of this assignment is to gain hands-on experience with the key components of Reinforcement Learning (RL) environments. \n",
        "\n",
        "For more details please checkout [HW1.md](../HW1.md)"
      ]
    },
    {
      "cell_type": "markdown",
      "metadata": {},
      "source": [
        "## Setup\n",
        "\n",
        "You will need to make a copy of this notebook in your Google Drive before you can edit the homework files. You can do so with **File &rarr; Save a copy in Drive**."
      ]
    },
    {
      "cell_type": "code",
      "execution_count": null,
      "metadata": {
        "id": "NtLnyycgIDf9"
      },
      "outputs": [],
      "source": [
        "#@title Mount Your Google Drive\n",
        "#@markdown Your work will be stored in a folder called `cs285_f2022` by default to prevent Colab instance timeouts from deleting your edits.\n",
        "\n",
        "import os\n",
        "from google.colab import drive\n",
        "drive.mount('/content/gdrive')"
      ]
    },
    {
      "cell_type": "code",
      "execution_count": null,
      "metadata": {
        "id": "T9E_W9qzIDgA"
      },
      "outputs": [],
      "source": [
        "#@title Setup Mount Symlink\n",
        "\n",
        "DRIVE_PATH = '/content/gdrive/My\\ Drive/rl_class'\n",
        "DRIVE_PYTHON_PATH = DRIVE_PATH.replace('\\\\', '')\n",
        "if not os.path.exists(DRIVE_PYTHON_PATH):\n",
        "  %mkdir $DRIVE_PATH\n",
        "\n",
        "## the space in `My Drive` causes some issues,\n",
        "## make a symlink to avoid this\n",
        "SYM_PATH = '/content/rl_class'\n",
        "if not os.path.exists(SYM_PATH):\n",
        "  !ln -s $DRIVE_PATH $SYM_PATH"
      ]
    },
    {
      "cell_type": "code",
      "execution_count": null,
      "metadata": {
        "id": "Du7CaOkxIDgA"
      },
      "outputs": [],
      "source": [
        "#@title Apt Install Requirements\n",
        "\n",
        "#@markdown Run each section with Shift+Enter\n",
        "\n",
        "#@markdown Double-click on section headers to show code.\n",
        "\n",
        "!apt update\n",
        "!apt install -y --no-install-recommends \\\n",
        "        build-essential \\\n",
        "        curl \\\n",
        "        git \\\n",
        "        gnupg2 \\\n",
        "        make \\\n",
        "        cmake \\\n",
        "        ffmpeg \\\n",
        "        swig \\\n",
        "        libz-dev \\\n",
        "        unzip \\\n",
        "        zlib1g-dev \\\n",
        "        libglfw3 \\\n",
        "        libglfw3-dev \\\n",
        "        libxrandr2 \\\n",
        "        libxinerama-dev \\\n",
        "        libxi6 \\\n",
        "        libxcursor-dev \\\n",
        "        libgl1-mesa-dev \\\n",
        "        libgl1-mesa-glx \\\n",
        "        libglew-dev \\\n",
        "        libosmesa6-dev \\\n",
        "        lsb-release \\\n",
        "        ack-grep \\\n",
        "        patchelf \\\n",
        "        wget \\\n",
        "        xpra \\\n",
        "        xserver-xorg-dev \\\n",
        "        xvfb\n"
      ]
    },
    {
      "cell_type": "code",
      "execution_count": null,
      "metadata": {
        "id": "2y-rZFSmIDgC"
      },
      "outputs": [],
      "source": [
        "#@title Clone Homework Repo\n",
        "\n",
        "%cd $SYM_PATH\n",
        "!git clone https://<TOKEN>@<Your Personalized Github Classroom Assignement link>\n",
        "# Use GitHub Personal Access Token as a password. Be careful not to expose your token; it's equivalent to a password!!! Don't commit your token!\n",
        "%cd <Your Personalized Github Classroom Assignement repo>\n",
        "%pip install swig\n",
        "%pip install -e .\n",
        "%pip install -r requirements_colab.txt\n"
      ]
    },
    {
      "cell_type": "code",
      "execution_count": null,
      "metadata": {
        "id": "zNmkPwbMKGFJ"
      },
      "outputs": [],
      "source": [
        "# # In case we need to install the dependencies manually\n",
        "# !pip install  tensorboard  torch swig gymnasium[box2d] ray[rllib] scikit-image pygame numba PyYAML GitPython tensorflow_probability"
      ]
    },
    {
      "cell_type": "markdown",
      "metadata": {},
      "source": [
        "## Editing Code\n",
        "\n",
        "To edit code, click the folder icon on the left menu. Navigate to the corresponding file (`multigrid/...`). Double click a file to open an editor. There is a timeout of about ~12 hours with Colab while it is active (and less if you close your browser window). We sync your edits to Google Drive so that you won't lose your work in the event of an instance timeout, but you will need to re-mount your Google Drive and re-install packages with every new instance."
      ]
    },
    {
      "cell_type": "code",
      "execution_count": null,
      "metadata": {
        "id": "XACfqgP8IDgC"
      },
      "outputs": [],
      "source": [
        "#@title Imports\n",
        "from __future__ import annotations\n",
        "\n",
        "import json\n",
        "import pathlib\n",
        "from pathlib import Path\n",
        "import os\n",
        "import subprocess\n",
        "import numpy as np\n",
        "from dataclasses import dataclass, asdict, field\n",
        "from types import SimpleNamespace\n",
        "import git\n",
        "from IPython.display import Image\n",
        "\n",
        "import ray\n",
        "from multigrid.envs import *\n",
        "from multigrid.utils.training_utilis import algorithm_config, get_checkpoint_dir\n",
        "from multigrid.scripts.train import configure_algorithm, train\n",
        "from multigrid.scripts.visualize import main_evaluation\n"
      ]
    },
    {
      "cell_type": "code",
      "execution_count": null,
      "metadata": {},
      "outputs": [],
      "source": [
        "#@title Fix Variables\n",
        "\n",
        "# Set the working diretory to the repo root\n",
        "REPO_ROOT = subprocess.check_output(['git', 'rev-parse', '--show-toplevel']).strip().decode('utf-8')\n",
        "os.chdir(REPO_ROOT)\n",
        "\n",
        "SUBMISSION_CONFIG_FILE = sorted(\n",
        "    Path(\"submission\").expanduser().glob(\"**/submission_config.json\"), key=os.path.getmtime\n",
        ")[-1]\n",
        "\n",
        "with open(SUBMISSION_CONFIG_FILE, \"r\") as file:\n",
        "    submission_config_data = file.read()\n",
        "\n",
        "submission_config = json.loads(submission_config_data)\n",
        "\n",
        "SUBMITTER_NAME = submission_config[\"name\"]\n",
        "\n",
        "CURRENT_DIR = os.getcwd()\n",
        "GIT_COMMIT_HASH =  git.Repo(REPO_ROOT).head.commit\n",
        "TAGS = {\"user_name\": SUBMITTER_NAME, \"git_commit_hash\": GIT_COMMIT_HASH}\n"
      ]
    },
    {
      "cell_type": "markdown",
      "metadata": {},
      "source": [
        "## For Agent Training\n",
        "\n"
      ]
    },
    {
      "cell_type": "code",
      "execution_count": null,
      "metadata": {
        "id": "fTZWvyvwYEGj"
      },
      "outputs": [],
      "source": [
        "#@title Training Arguments\n",
        "@dataclass\n",
        "class Args:\n",
        "\n",
        "  #@markdown agent config\n",
        "  num_agents: int = 1 #@param {type: \"integer\"}\n",
        "  algo: str = \"PPO\"  #@param {type: \"string\"}\n",
        "  framework: str = \"torch\" #@param ['torch', 'tf2']\n",
        "  lstm: bool = False #@param {type:\"boolean\"}\n",
        "  training_scheme: str = \"DTDE\"  #@param ['CTCE', 'DTDE', 'CTDE']\n",
        "\n",
        "  #@markdown environemnt config\n",
        "  env: str = \"MultiGrid-CompetativeRedBlueDoor-v3-DTDE-Red-Single\"  #@param {type: \"string\"}\n",
        "\n",
        "  #@markdown training config\n",
        "  num_workers: int = 10  #@param {type: \"integer\"}\n",
        "  num_gpus: int = 0 #@param {type: \"integer\"}\n",
        "  lr: float = 0.001  #@param {type: \"float\"}\n",
        "  # NOTE Please only keep the checkpoints that you want to submit\n",
        "  save_dir: str = \"submission/ray_results/\" #@param {type: \"string\"}\n",
        "  load_dir: str = None #@param {type:\"string\", default:None}\n",
        "  user_name: str = \"<Your Name>\" #@param {type: \"string\"}\n",
        "  experiment_name: str = \"my_experiment\" #@param {type: \"string\"}\n",
        "  mlflow_tracking_uri: str = \"submission/mlflow/\", #@param {type: \"string\"}\n",
        "  checkpoint_freq: int = 20 #@param {type: \"integer\"}\n",
        "  num_timesteps: float = 1e6 #@param {type: \"string\"}\n",
        "  checkpoint_freq: int = 20 #@param {type: \"integer\"}\n",
        "  seed: int = 1 #@param {type: \"integer\"}\n",
        "  local_mode: bool = False  #@param {type:\"boolean\"}\n",
        "\n",
        "  def to_namespace(self):\n",
        "      return SimpleNamespace(**asdict(self))\n",
        "\n",
        "\n"
      ]
    },
    {
      "cell_type": "code",
      "execution_count": null,
      "metadata": {
        "id": "nJFHunlJPyfA"
      },
      "outputs": [],
      "source": [
        "#@title Set up Training Arguments\n",
        "args = Args().to_namespace()\n",
        "print(args) # Prints the values of all attributes\n",
        "\n",
        "config = configure_algorithm(args)\n",
        "stop_conditions = {\"timesteps_total\": args.num_timesteps}\n"
      ]
    },
    {
      "cell_type": "markdown",
      "metadata": {
        "id": "P1R6jI4OT4Y9"
      },
      "source": [
        " ## Initialize and Show Tensorboard Before Training\n",
        "\n",
        " Filter tags for key performance metrics:\n",
        "\n",
        "episode_len_mean|ray/tune/episode_reward_mean|episode_reward_min|entropy|vf|loss|kl|cpu|ram"
      ]
    },
    {
      "cell_type": "code",
      "execution_count": null,
      "metadata": {
        "id": "kurGcB2-RIgR"
      },
      "outputs": [],
      "source": [
        "# Load the TensorBoard notebook extension\n",
        "%load_ext tensorboard"
      ]
    },
    {
      "cell_type": "code",
      "execution_count": null,
      "metadata": {
        "id": "66A3ck4ZRLTI"
      },
      "outputs": [],
      "source": [
        "# Start TensorBoard and Map the `logdir`` to `save_dir` i.e. `/content/gdrive/MyDrive/rl_class/week-1-intro-to-deep-rl-and-agent-training-environment/submission/ray_results/`\n",
        "%tensorboard --logdir /content/rl_class/<Your Personalized Github Classroom Assignement repo>/submission/ray_results"
      ]
    },
    {
      "cell_type": "markdown",
      "metadata": {},
      "source": [
        "## Execute training"
      ]
    },
    {
      "cell_type": "code",
      "execution_count": null,
      "metadata": {
        "id": "XBVJyJQzLOcr"
      },
      "outputs": [],
      "source": [
        "#@title Execute Training\n",
        "train(\n",
        "    algo=args.algo,\n",
        "    config=config,\n",
        "    stop_conditions=stop_conditions,\n",
        "    save_dir=args.save_dir,\n",
        "    load_dir=args.load_dir,\n",
        "    local_mode=args.local_mode,\n",
        "    experiment_name=args.experiment_name,\n",
        "    training_scheme=args.training_scheme,\n",
        ")\n",
        "\n",
        "# NOTE - Please remember to clear your training outputs before you submit your notebook to reduce file size and increase readability"
      ]
    },
    {
      "cell_type": "code",
      "execution_count": null,
      "metadata": {
        "id": "SB-Zsu5TQ2iN"
      },
      "outputs": [],
      "source": [
        "# NOTE-  Manually shutdown Ray if needed\n",
        "ray.shutdown()"
      ]
    },
    {
      "cell_type": "markdown",
      "metadata": {
        "id": "qAdkjam5E2eW"
      },
      "source": [
        "## Submission for Task 3 - Monitor and Track Agent Training with Tensorboard and Save Out Visualization from Evaluation\n",
        "\n",
        "1. Please take screenshots of your Tensorboard plots that highlight your performance metrics\n",
        "2. Embedd your images here in CoLab\n",
        "3. Only save the best checkpoint and video in the /submission folder and push to your repo\n"
      ]
    },
    {
      "cell_type": "code",
      "execution_count": null,
      "metadata": {
        "id": "i8yqD1GYENlQ"
      },
      "outputs": [],
      "source": [
        "from google.colab import files\n",
        "from IPython.display import Image\n",
        "\n",
        "uploaded = files.upload()\n",
        "\n",
        "# Assuming a single image file is uploaded\n",
        "for fn in uploaded.keys():\n",
        "  print('User uploaded file \"{name}\" with length {length} bytes'.format(name=fn, length=len(uploaded[fn])))\n",
        "  display(Image(fn))"
      ]
    },
    {
      "cell_type": "code",
      "execution_count": null,
      "metadata": {},
      "outputs": [],
      "source": [
        "#@title Your Tensorboard Screenshots Go Here\n",
        "..."
      ]
    },
    {
      "cell_type": "markdown",
      "metadata": {},
      "source": [
        "## Agent Evaluation"
      ]
    },
    {
      "cell_type": "markdown",
      "metadata": {},
      "source": [
        "#### *For running the Evaluation, we recommend restarting the kernel first to avoid any possible environmental issues that linger from training"
      ]
    },
    {
      "cell_type": "code",
      "execution_count": null,
      "metadata": {
        "id": "BBQbJDZSk_jK"
      },
      "outputs": [],
      "source": [
        "\n",
        "#@title Evaluation Arguments\n",
        "\n",
        "@dataclass\n",
        "class EvalArgs:\n",
        "\n",
        "  #@markdown agent config\n",
        "  algo: str = \"PPO\"  #@param {type: \"string\"}\n",
        "  framework: str = \"torch\" #@param ['torch', 'tf2']\n",
        "  lstm: bool = False #@param {type: \"boolean\"}\n",
        "\n",
        "  #@markdown environemnt config\n",
        "  env: str = \"MultiGrid-CompetativeRedBlueDoor-v3-DTDE-Red-Single\"  #@param {type: \"string\"}\n",
        "  env_config: Dict = field(default_factory=dict)  # Use default_factory to create a new dict for each instance\n",
        "\n",
        "  #@markdown Evaluation config\n",
        "  num_episodes: int = 10 #@param {type: \"integer\"}\n",
        "  load_dir: str = \"submission/ray_results/MultiGrid-CompetativeRedBlueDoor-v3-DTDE-Red-Single/\" #@param {type: \"string\"}\n",
        "  save_dir: str = \"submission/evaluation_reports/\" #@param {type: \"string\"}\n",
        "  gif: str = \"DTDE-Red-Single-testing\" #@param {type: \"string\"}\n",
        "  render_mode: str = \"human\" #@param {type: \"string\"}\n",
        "\n",
        "  def to_namespace(self):\n",
        "    return SimpleNamespace(**asdict(self))"
      ]
    },
    {
      "cell_type": "code",
      "execution_count": null,
      "metadata": {
        "id": "6eVxxRIIl4vm"
      },
      "outputs": [],
      "source": [
        "#@title Set up Evaluation Arguments\n",
        "\n",
        "eval_args = EvalArgs().to_namespace()\n",
        "print(eval_args)  # Prints the values of all attributes"
      ]
    },
    {
      "cell_type": "code",
      "execution_count": null,
      "metadata": {
        "id": "a8D9IPMyk-S1"
      },
      "outputs": [],
      "source": [
        "#@title Execute Evaluation\n",
        "exported_gif_filename = main_evaluation(args=eval_args)"
      ]
    },
    {
      "cell_type": "code",
      "execution_count": null,
      "metadata": {
        "id": "-D9GMbtEaYQf"
      },
      "outputs": [],
      "source": [
        "#@title Visualize and Display Evaluated Agent Behavniors\n",
        "\n",
        "# Load the GIF\n",
        "display(Image(filename=exported_gif_filename))"
      ]
    },
    {
      "cell_type": "markdown",
      "metadata": {},
      "source": [
        "# Recommendations for Homework Submission\n",
        "Backup and download your notebook first from Google CodeLab"
      ]
    },
    {
      "cell_type": "code",
      "execution_count": null,
      "metadata": {},
      "outputs": [],
      "source": [
        "#@title Makesure you are already in YOUR_REPO_FOLDER i.e. /content/rl_class/multigrid\n",
        "!pwd"
      ]
    },
    {
      "cell_type": "code",
      "execution_count": null,
      "metadata": {},
      "outputs": [],
      "source": [
        "#@title Configure Git\n",
        "!git config --global user.email \"your-email@example.com\"\n",
        "!git config --global user.name \"Your Name\"\n"
      ]
    },
    {
      "cell_type": "code",
      "execution_count": null,
      "metadata": {},
      "outputs": [],
      "source": [
        "#@title Move the Notebook to the Repo Folder (Optional)\n",
        "!mv \"your-homework1.ipynb\" \"/content/YOUR_REPO_FOLDER/notebooks\"\n"
      ]
    },
    {
      "cell_type": "code",
      "execution_count": null,
      "metadata": {},
      "outputs": [],
      "source": [
        "#@title Add, Commit and Push Changes to GitHub Classroom\n",
        "\n",
        "!git add .\n",
        "!git commit -m \"Your commit message\"\n",
        "!git push origin main\n"
      ]
    }
  ],
  "metadata": {
    "accelerator": "GPU",
    "colab": {
      "machine_shape": "hm",
      "provenance": []
    },
    "kernelspec": {
      "display_name": "Python 3",
      "name": "python3"
    },
    "language_info": {
      "codemirror_mode": {
        "name": "ipython",
        "version": 3
      },
      "file_extension": ".py",
      "mimetype": "text/x-python",
      "name": "python",
      "nbconvert_exporter": "python",
      "pygments_lexer": "ipython3",
      "version": "3.10.12"
    }
  },
  "nbformat": 4,
  "nbformat_minor": 0
}
